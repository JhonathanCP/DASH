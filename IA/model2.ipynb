{
 "cells": [
  {
   "cell_type": "code",
   "execution_count": 1,
   "metadata": {},
   "outputs": [],
   "source": [
    "import pandas as pd\n",
    "from decouple import config\n",
    "from sqlalchemy import create_engine\n",
    "import pandas as pd\n",
    "from datetime import datetime, timedelta, time\n",
    "import time \n",
    "from sqlalchemy import text\n",
    "import oracledb\n",
    "import sys"
   ]
  },
  {
   "cell_type": "code",
   "execution_count": 2,
   "metadata": {},
   "outputs": [],
   "source": [
    "def create_oracle_connection():\n",
    "    try:\n",
    "        oracledb.init_oracle_client(lib_dir=r\"C:\\Users\\kings\\Downloads\\Nueva carpeta\\instantclient_23_4\")\n",
    "        connection = oracledb.connect(\n",
    "            user=\"User_oper\",\n",
    "            password=\"TmLQL$Yq.1\",\n",
    "            dsn=\"10.56.1.76:1527/WNET\"\n",
    "        )\n",
    "        print(\"Conexión exitosa.\")\n",
    "        return connection\n",
    "    except oracledb.DatabaseError as e:\n",
    "        error, = e.args\n",
    "        print(f\"Error al conectar: {error.message}\")\n",
    "        return None\n",
    "\n",
    "# Reemplazar fetch_data por una función de ejemplo\n",
    "def fetch_data():\n",
    "    try:\n",
    "        conn = create_oracle_connection()\n",
    "        if conn is None:\n",
    "            raise ConnectionError(\"No se pudo establecer la conexión a la base de datos.\")\n",
    "        query = f\"\"\"SELECT\n",
    "                    --ras.REDASISCOD,\n",
    "                    --ras.REDASISDES,\n",
    "                    cas.CENASICOD,\n",
    "                    --cas.CENASIDES,\n",
    "                    aho.AREHOSCOD,\n",
    "                    --aho.AREHOSDES,\n",
    "                    sho.SERVHOSCOD,\n",
    "                    --sho.SERVHOSDES,\n",
    "                    --act.ACTCOD,\n",
    "                    --act.ACTDES,\n",
    "                    --ace.ACTESPCOD,\n",
    "                    --ace.ACTESPNOM,\n",
    "                    act.ACTCOD || ace.ACTESPCOD AS ACTESPCOD,\n",
    "                    med.PERNACFEC AS MEDNACFEC,\n",
    "                    med.PERSEXOCOD AS MEDSEXO,\n",
    "                    goc.GRUPOCUPCOD,\n",
    "                    --goc.GRUPOCUPNOM,\n",
    "                    cot.CONDTRABCOD,\n",
    "                    --cot.CONDTRABNOM,\n",
    "                    pac.PERDOCIDENNUM,\n",
    "                    pac.PERNACFEC AS PACNACFEC,\n",
    "                    pac.PERSEXOCOD AS PACSEXO,\n",
    "                    cit.CITAMBPROCONFEC,\n",
    "                    cit.CITAMBCREFEC,\n",
    "                    cit.CITAMBHORCIT,\n",
    "                    tci.TIPOCITACOD,\n",
    "                    --tci.TIPOCITANOM,\n",
    "                    coc.CONDCITACOD,\n",
    "                    --coc.CONDCITANOM,\n",
    "                    moc.MODOTORCITACOD,\n",
    "                    --moc.MODOTORCITANOM,\n",
    "                    eci.ESTCITCOD\n",
    "                    --eci.ESTCITNOM\n",
    "                    FROM\n",
    "                    CTCAM10 cit\n",
    "                    LEFT OUTER JOIN\n",
    "                        CMCAS10 cas\n",
    "                        ON cit.CITAMBCENASICOD = cas.CENASICOD\n",
    "                    LEFT OUTER JOIN\n",
    "                        CMRAS10 ras\n",
    "                        ON cas.REDASISCOD = ras.REDASISCOD\n",
    "                    LEFT OUTER JOIN\n",
    "                        CMAHO10 aho\n",
    "                        ON cit.CITAMBAREHOSCOD = aho.AREHOSCOD\n",
    "                    LEFT OUTER JOIN\n",
    "                        CMSHO10 sho\n",
    "                        ON cit.CITAMBSERVHOSCOD = sho.SERVHOSCOD\n",
    "                    LEFT OUTER JOIN\n",
    "                        CMACT10 act\n",
    "                        ON cit.CITAMBACTCOD = act.ACTCOD\n",
    "                    LEFT OUTER JOIN\n",
    "                        CMACE10 ace\n",
    "                        ON cit.CITAMBACTCOD = ace.ACTCOD\n",
    "                        AND cit.CITAMBACTESPCOD = ace.ACTESPCOD\n",
    "                    LEFT OUTER JOIN\n",
    "                        CMPER10 med\n",
    "                        ON cit.CITAMBPERASISDOCIDENNUM = med.PERDOCIDENNUM\n",
    "                    LEFT OUTER JOIN\n",
    "                        CMPRS10 prs\n",
    "                        ON cit.CITAMBPERASISDOCIDENNUM = prs.PERASISDOCIDENNUM\n",
    "                    LEFT OUTER JOIN\n",
    "                        CBGOC10 goc\n",
    "                        ON prs.GRUPOCUPCOD = goc.GRUPOCUPCOD\n",
    "                    LEFT OUTER JOIN\n",
    "                        CBCOT10 cot\n",
    "                        ON prs.CONDTRABCOD = cot.CONDTRABCOD\n",
    "                    LEFT OUTER JOIN\n",
    "                        CBTCI10 tci\n",
    "                        ON cit.TIPOCITACOD = tci.TIPOCITACOD\n",
    "                    LEFT OUTER JOIN\n",
    "                        CBCOC10 coc\n",
    "                        ON cit.CONDCITACOD = coc.CONDCITACOD\n",
    "                    LEFT OUTER JOIN\n",
    "                        CBMOC10 moc\n",
    "                        ON cit.MODOTORCITACOD = moc.MODOTORCITACOD\n",
    "                    LEFT OUTER JOIN\n",
    "                        CBECI10 eci\n",
    "                        ON cit.ESTCITCOD = eci.ESTCITCOD\n",
    "                    LEFT OUTER JOIN\n",
    "                        CMPER10 pac\n",
    "                        ON cit.CITAMBPACSECNUM = pac.PERSECNUM\n",
    "                    WHERE\n",
    "                        act.ACTCOD = '91'\n",
    "                        AND cit.CITAMBPROCONFEC >= TO_DATE('2024-08-01', 'YYYY-MM-DD')\n",
    "                        AND cit.CITAMBPROCONFEC < TO_DATE('2024-08-02', 'YYYY-MM-DD')\n",
    "                        AND eci.ESTCITCOD IN ('4', '5')\n",
    "                        AND ras.REDASISCOD IN ('05')\n",
    "                \"\"\"\n",
    "        df = pd.read_sql(query, conn)\n",
    "    except Exception as e:\n",
    "        print(f\"Error: {e}\")\n",
    "        df = pd.DataFrame()\n",
    "    finally:\n",
    "        conn.close()  # Cerrar la conexión al final\n",
    "    return df"
   ]
  },
  {
   "cell_type": "code",
   "execution_count": 3,
   "metadata": {},
   "outputs": [
    {
     "name": "stdout",
     "output_type": "stream",
     "text": [
      "Conexión exitosa.\n"
     ]
    },
    {
     "name": "stderr",
     "output_type": "stream",
     "text": [
      "C:\\Users\\kings\\AppData\\Local\\Temp\\ipykernel_7576\\3716012378.py:111: UserWarning: pandas only supports SQLAlchemy connectable (engine/connection) or database string URI or sqlite3 DBAPI2 connection. Other DBAPI2 objects are not tested. Please consider using SQLAlchemy.\n",
      "  df = pd.read_sql(query, conn)\n"
     ]
    }
   ],
   "source": [
    "df= fetch_data()"
   ]
  },
  {
   "cell_type": "code",
   "execution_count": 5,
   "metadata": {},
   "outputs": [],
   "source": [
    "df.columns=df.columns.str.upper()"
   ]
  },
  {
   "cell_type": "code",
   "execution_count": 6,
   "metadata": {},
   "outputs": [
    {
     "data": {
      "text/plain": [
       "Index(['CENASICOD', 'AREHOSCOD', 'SERVHOSCOD', 'ACTESPCOD', 'MEDNACFEC',\n",
       "       'MEDSEXO', 'GRUPOCUPCOD', 'CONDTRABCOD', 'PERDOCIDENNUM', 'PACNACFEC',\n",
       "       'PACSEXO', 'CITAMBPROCONFEC', 'CITAMBCREFEC', 'CITAMBHORCIT',\n",
       "       'TIPOCITACOD', 'CONDCITACOD', 'MODOTORCITACOD', 'ESTCITCOD'],\n",
       "      dtype='object')"
      ]
     },
     "execution_count": 6,
     "metadata": {},
     "output_type": "execute_result"
    }
   ],
   "source": [
    "df.columns"
   ]
  },
  {
   "cell_type": "code",
   "execution_count": 7,
   "metadata": {},
   "outputs": [
    {
     "name": "stdout",
     "output_type": "stream",
     "text": [
      "Conexión exitosa.\n",
      "Conexión exitosa.\n",
      "Conexión exitosa.\n"
     ]
    },
    {
     "name": "stderr",
     "output_type": "stream",
     "text": [
      "C:\\Users\\kings\\AppData\\Local\\Temp\\ipykernel_7576\\3310902535.py:2: UserWarning: pandas only supports SQLAlchemy connectable (engine/connection) or database string URI or sqlite3 DBAPI2 connection. Other DBAPI2 objects are not tested. Please consider using SQLAlchemy.\n",
      "  CENASICOD = pd.read_sql_query(query_CENASICOD, con=create_oracle_connection())\n",
      "C:\\Users\\kings\\AppData\\Local\\Temp\\ipykernel_7576\\3310902535.py:4: UserWarning: pandas only supports SQLAlchemy connectable (engine/connection) or database string URI or sqlite3 DBAPI2 connection. Other DBAPI2 objects are not tested. Please consider using SQLAlchemy.\n",
      "  AREHOSCOD = pd.read_sql_query(query_AREHOSCOD, con=create_oracle_connection())\n",
      "C:\\Users\\kings\\AppData\\Local\\Temp\\ipykernel_7576\\3310902535.py:6: UserWarning: pandas only supports SQLAlchemy connectable (engine/connection) or database string URI or sqlite3 DBAPI2 connection. Other DBAPI2 objects are not tested. Please consider using SQLAlchemy.\n",
      "  SERVHOSCOD = pd.read_sql_query(query_SERVHOSCOD, con=create_oracle_connection())\n"
     ]
    },
    {
     "name": "stdout",
     "output_type": "stream",
     "text": [
      "Conexión exitosa.\n",
      "Conexión exitosa.\n"
     ]
    },
    {
     "name": "stderr",
     "output_type": "stream",
     "text": [
      "C:\\Users\\kings\\AppData\\Local\\Temp\\ipykernel_7576\\3310902535.py:8: UserWarning: pandas only supports SQLAlchemy connectable (engine/connection) or database string URI or sqlite3 DBAPI2 connection. Other DBAPI2 objects are not tested. Please consider using SQLAlchemy.\n",
      "  ACTESPCOD = pd.read_sql_query(query_ACTESPCOD, con=create_oracle_connection())\n",
      "C:\\Users\\kings\\AppData\\Local\\Temp\\ipykernel_7576\\3310902535.py:10: UserWarning: pandas only supports SQLAlchemy connectable (engine/connection) or database string URI or sqlite3 DBAPI2 connection. Other DBAPI2 objects are not tested. Please consider using SQLAlchemy.\n",
      "  GRUPOCUPCOD = pd.read_sql_query(query_GRUPOCUPCOD, con=create_oracle_connection())\n"
     ]
    },
    {
     "name": "stdout",
     "output_type": "stream",
     "text": [
      "Conexión exitosa.\n",
      "Conexión exitosa.\n"
     ]
    },
    {
     "name": "stderr",
     "output_type": "stream",
     "text": [
      "C:\\Users\\kings\\AppData\\Local\\Temp\\ipykernel_7576\\3310902535.py:12: UserWarning: pandas only supports SQLAlchemy connectable (engine/connection) or database string URI or sqlite3 DBAPI2 connection. Other DBAPI2 objects are not tested. Please consider using SQLAlchemy.\n",
      "  CONDTRABCOD = pd.read_sql_query(query_CONDTRABCOD, con=create_oracle_connection())\n",
      "C:\\Users\\kings\\AppData\\Local\\Temp\\ipykernel_7576\\3310902535.py:14: UserWarning: pandas only supports SQLAlchemy connectable (engine/connection) or database string URI or sqlite3 DBAPI2 connection. Other DBAPI2 objects are not tested. Please consider using SQLAlchemy.\n",
      "  TIPOCITACOD = pd.read_sql_query(query_TIPOCITACOD, con=create_oracle_connection())\n"
     ]
    },
    {
     "name": "stdout",
     "output_type": "stream",
     "text": [
      "Conexión exitosa.\n",
      "Conexión exitosa.\n"
     ]
    },
    {
     "name": "stderr",
     "output_type": "stream",
     "text": [
      "C:\\Users\\kings\\AppData\\Local\\Temp\\ipykernel_7576\\3310902535.py:16: UserWarning: pandas only supports SQLAlchemy connectable (engine/connection) or database string URI or sqlite3 DBAPI2 connection. Other DBAPI2 objects are not tested. Please consider using SQLAlchemy.\n",
      "  CONDCITACOD = pd.read_sql_query(query_CONDCITACOD, con=create_oracle_connection())\n",
      "C:\\Users\\kings\\AppData\\Local\\Temp\\ipykernel_7576\\3310902535.py:18: UserWarning: pandas only supports SQLAlchemy connectable (engine/connection) or database string URI or sqlite3 DBAPI2 connection. Other DBAPI2 objects are not tested. Please consider using SQLAlchemy.\n",
      "  MODOTORCITACOD = pd.read_sql_query(query_MODOTORCITACOD, con=create_oracle_connection())\n"
     ]
    }
   ],
   "source": [
    "query_CENASICOD = 'SELECT CENASICOD FROM CMCAS10'\n",
    "CENASICOD = pd.read_sql_query(query_CENASICOD, con=create_oracle_connection())\n",
    "query_AREHOSCOD = 'SELECT AREHOSCOD FROM CMAHO10'\n",
    "AREHOSCOD = pd.read_sql_query(query_AREHOSCOD, con=create_oracle_connection())\n",
    "query_SERVHOSCOD = 'SELECT SERVHOSCOD FROM CMSHO10'\n",
    "SERVHOSCOD = pd.read_sql_query(query_SERVHOSCOD, con=create_oracle_connection())\n",
    "query_ACTESPCOD = \"SELECT ACTCOD || ACTESPCOD AS ACTESPCOD FROM CMACE10 WHERE ACTCOD = '91'\"\n",
    "ACTESPCOD = pd.read_sql_query(query_ACTESPCOD, con=create_oracle_connection())\n",
    "query_GRUPOCUPCOD = 'SELECT GRUPOCUPCOD FROM CBGOC10'\n",
    "GRUPOCUPCOD = pd.read_sql_query(query_GRUPOCUPCOD, con=create_oracle_connection())\n",
    "query_CONDTRABCOD = 'SELECT CONDTRABCOD FROM CBCOT10'\n",
    "CONDTRABCOD = pd.read_sql_query(query_CONDTRABCOD, con=create_oracle_connection())\n",
    "query_TIPOCITACOD = 'SELECT TIPOCITACOD FROM CBTCI10'\n",
    "TIPOCITACOD = pd.read_sql_query(query_TIPOCITACOD, con=create_oracle_connection())\n",
    "query_CONDCITACOD = 'SELECT CONDCITACOD FROM CBCOC10'\n",
    "CONDCITACOD = pd.read_sql_query(query_CONDCITACOD, con=create_oracle_connection())\n",
    "query_MODOTORCITACOD = 'SELECT MODOTORCITACOD FROM CBMOC10'\n",
    "MODOTORCITACOD = pd.read_sql_query(query_MODOTORCITACOD, con=create_oracle_connection())\n"
   ]
  }
 ],
 "metadata": {
  "kernelspec": {
   "display_name": "Python 3",
   "language": "python",
   "name": "python3"
  },
  "language_info": {
   "codemirror_mode": {
    "name": "ipython",
    "version": 3
   },
   "file_extension": ".py",
   "mimetype": "text/x-python",
   "name": "python",
   "nbconvert_exporter": "python",
   "pygments_lexer": "ipython3",
   "version": "3.12.4"
  }
 },
 "nbformat": 4,
 "nbformat_minor": 2
}

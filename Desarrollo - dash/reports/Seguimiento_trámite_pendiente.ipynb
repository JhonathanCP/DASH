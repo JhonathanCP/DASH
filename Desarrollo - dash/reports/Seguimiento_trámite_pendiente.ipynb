{
 "cells": [
  {
   "cell_type": "code",
   "execution_count": 1,
   "metadata": {},
   "outputs": [],
   "source": [
    "import dash\n",
    "from dash import dcc, html\n",
    "from dash.dependencies import Input, Output, State\n",
    "import plotly.express as px\n",
    "import pandas as pd\n",
    "from sqlalchemy import create_engine\n",
    "import plotly.graph_objects as go\n",
    "import dash_bootstrap_components as dbc\n",
    "from dash import dash_table\n",
    "import numpy as np\n",
    "from jupyter_dash import JupyterDash\n",
    "#import pdfkit\n",
    "import base64\n",
    "from io import BytesIO\n",
    "from reportlab.lib.pagesizes import letter\n",
    "from reportlab.pdfgen import canvas\n",
    "import pyodbc\n",
    "from urllib.parse import quote_plus\n",
    "import io"
   ]
  },
  {
   "cell_type": "code",
   "execution_count": 2,
   "metadata": {},
   "outputs": [],
   "source": [
    "# Parámetros de conexión\n",
    "server = '10.0.0.133'\n",
    "database = 'DB_GENERAL'\n",
    "database2= 'DB_TRAMITE_DOCUMENTARIO'  # Reemplaza con el nombre de tu base de datos\n",
    "username = 'sa'\n",
    "password = 'Essalud23**'\n",
    "\n",
    "def create_connection():\n",
    "    conn = None\n",
    "    try:\n",
    "        # Establecer conexión\n",
    "        conn = pyodbc.connect(r'DRIVER={ODBC Driver 18 for SQL Server};'\n",
    "        f'SERVER={server};'\n",
    "        f'DATABASE={database};'\n",
    "        f'UID={username};'\n",
    "        f'PWD={password};'\n",
    "        'TrustServerCertificate=yes;')\n",
    "        print(\"Conexión exitosa.\")\n",
    "    except Exception as e:\n",
    "        print(f\"Error al conectar: {e}\")\n",
    "    return conn\n",
    "\n",
    "def create_connection2():\n",
    "    conn = None\n",
    "    try:\n",
    "        # Establecer conexión\n",
    "        conn = pyodbc.connect(r'DRIVER={ODBC Driver 18 for SQL Server};'\n",
    "        f'SERVER={server};'\n",
    "        f'DATABASE={database2};'\n",
    "        f'UID={username};'\n",
    "        f'PWD={password};'\n",
    "        'TrustServerCertificate=yes;')\n",
    "        print(\"Conexión exitosa.\")\n",
    "    except Exception as e:\n",
    "        print(f\"Error al conectar: {e}\")\n",
    "    return conn"
   ]
  },
  {
   "cell_type": "code",
   "execution_count": 3,
   "metadata": {},
   "outputs": [],
   "source": [
    "def fetch_data():\n",
    "    conn = create_connection()\n",
    "    if conn is None:\n",
    "        raise ConnectionError(\"No se pudo establecer la conexión a la base de datos.\")\n",
    "    try:\n",
    "        query = f\"\"\"\n",
    "SELECT \n",
    "    d.hoja_tramite,\n",
    "    d.tipo_hoja,\n",
    "    cdi.DESCRIPCION,\n",
    "    d.INDICATIVO_OFICIO,\n",
    "    p.RAZON_SOCIAL,\n",
    "    d.FECHA_RECEPCION,\n",
    "    d.ASUNTO,\n",
    "    md.AUDIT_REC,\n",
    "    do.SIGLAS AS SIGLAS_ORIGEN,\n",
    "    do.DEPENDENCIA AS DEPENDENCIA_ORIGEN,\n",
    "    dd.SIGLAS AS SIGLAS_DESTINO,\n",
    "    dd.DEPENDENCIA AS DEPENDENCIA_DESTINO,\n",
    "    ht.APELLIDOS_TRABAJADOR,\n",
    "    ht.NOMBRES_TRABAJADOR,\n",
    "    ed.ID_ESTADO_DOCUMENTO,\n",
    "    ed.DESCRIPCION AS ESTADO_DOCUMENTO,\n",
    "    md.AUDIT_TRAB_DER AS FECHA_DELEGADO,\n",
    "    md.derivado,\n",
    "    md.finalizado\n",
    "FROM \n",
    "    DB_TRAMITE_DOCUMENTARIO.web_tramite.MOVIMIENTO_DOCUMENTO md\n",
    "LEFT OUTER JOIN \n",
    "    DB_TRAMITE_DOCUMENTARIO.web_tramite.DOCUMENTO d ON md.ID_DOCUMENTO = d.ID_DOCUMENTO\n",
    "LEFT OUTER JOIN \n",
    "    DB_GENERAL.dbo.PERSONA p ON d.ID_PERSONA = p.ID\n",
    "LEFT OUTER JOIN \n",
    "    DB_TRAMITE_DOCUMENTARIO.dbo.CLASE_DOCUMENTO_INTERNO cdi ON d.ID_CLASE_DOCUMENTO_INTERNO = cdi.ID_CLASE_DOCUMENTO_INTERNO\n",
    "LEFT OUTER JOIN \n",
    "    DB_TRAMITE_DOCUMENTARIO.dbo.ESTADO_DOCUMENTO ed ON ed.ID_ESTADO_DOCUMENTO = d.ID_ESTADO_DOCUMENTO\n",
    "LEFT OUTER JOIN \n",
    "    DB_GENERAL.jcardenas.H_DEPENDENCIA do ON do.CODIGO_DEPENDENCIA = md.ID_DEPENDENCIA_ORIGEN \n",
    "LEFT OUTER JOIN \n",
    "    DB_GENERAL.jcardenas.H_DEPENDENCIA dd ON dd.CODIGO_DEPENDENCIA = md.ID_DEPENDENCIA_DESTINO\n",
    "LEFT JOIN \n",
    "    DB_GENERAL.jcardenas.H_TRABAJADOR ht ON ht.CODIGO_TRABAJADOR = md.codigo_trabajador\n",
    "WHERE\n",
    "    (do.SIGLAS LIKE 'SG' OR dd.SIGLAS LIKE 'SG')\n",
    "    AND\n",
    "    md.AUDIT_TRAB_DER = (\n",
    "        SELECT MAX(sub_md.AUDIT_TRAB_DER)\n",
    "        FROM DB_TRAMITE_DOCUMENTARIO.web_tramite.MOVIMIENTO_DOCUMENTO sub_md\n",
    "        LEFT OUTER JOIN DB_TRAMITE_DOCUMENTARIO.web_tramite.DOCUMENTO sub_d ON sub_md.ID_DOCUMENTO = sub_d.ID_DOCUMENTO\n",
    "        WHERE sub_d.hoja_tramite = d.hoja_tramite\n",
    "    )\n",
    "        \"\"\"\n",
    "        result = pd.read_sql(query, conn)\n",
    "        result['estado']= np.where((result['ID_ESTADO_DOCUMENTO'] != 2) & (result['ID_ESTADO_DOCUMENTO'] != 10) & (result['derivado'] == 0) & (result['finalizado'] == 0),'Pendiente','Otros')\n",
    "        result = result[result['estado']=='Pendiente']\n",
    "\n",
    "\n",
    "    finally:\n",
    "        conn.close()  # Cerrar la conexión al final\n",
    "    return result"
   ]
  },
  {
   "cell_type": "code",
   "execution_count": 13,
   "metadata": {},
   "outputs": [
    {
     "data": {
      "text/html": [
       "\n",
       "        <iframe\n",
       "            width=\"100%\"\n",
       "            height=\"650\"\n",
       "            src=\"http://127.0.0.1:8050/\"\n",
       "            frameborder=\"0\"\n",
       "            allowfullscreen\n",
       "            \n",
       "        ></iframe>\n",
       "        "
      ],
      "text/plain": [
       "<IPython.lib.display.IFrame at 0x251b30c6630>"
      ]
     },
     "metadata": {},
     "output_type": "display_data"
    },
    {
     "name": "stdout",
     "output_type": "stream",
     "text": [
      "Conexión exitosa.\n"
     ]
    },
    {
     "name": "stderr",
     "output_type": "stream",
     "text": [
      "C:\\Users\\kings\\AppData\\Local\\Temp\\ipykernel_10280\\4048390100.py:53: UserWarning:\n",
      "\n",
      "pandas only supports SQLAlchemy connectable (engine/connection) or database string URI or sqlite3 DBAPI2 connection. Other DBAPI2 objects are not tested. Please consider using SQLAlchemy.\n",
      "\n"
     ]
    },
    {
     "name": "stdout",
     "output_type": "stream",
     "text": [
      "Conexión exitosa.\n"
     ]
    },
    {
     "name": "stderr",
     "output_type": "stream",
     "text": [
      "C:\\Users\\kings\\AppData\\Local\\Temp\\ipykernel_10280\\4048390100.py:53: UserWarning:\n",
      "\n",
      "pandas only supports SQLAlchemy connectable (engine/connection) or database string URI or sqlite3 DBAPI2 connection. Other DBAPI2 objects are not tested. Please consider using SQLAlchemy.\n",
      "\n"
     ]
    },
    {
     "name": "stdout",
     "output_type": "stream",
     "text": [
      "Conexión exitosa.\n"
     ]
    },
    {
     "name": "stderr",
     "output_type": "stream",
     "text": [
      "C:\\Users\\kings\\AppData\\Local\\Temp\\ipykernel_10280\\4048390100.py:53: UserWarning:\n",
      "\n",
      "pandas only supports SQLAlchemy connectable (engine/connection) or database string URI or sqlite3 DBAPI2 connection. Other DBAPI2 objects are not tested. Please consider using SQLAlchemy.\n",
      "\n"
     ]
    },
    {
     "name": "stdout",
     "output_type": "stream",
     "text": [
      "Conexión exitosa.\n"
     ]
    },
    {
     "name": "stderr",
     "output_type": "stream",
     "text": [
      "C:\\Users\\kings\\AppData\\Local\\Temp\\ipykernel_10280\\4048390100.py:53: UserWarning:\n",
      "\n",
      "pandas only supports SQLAlchemy connectable (engine/connection) or database string URI or sqlite3 DBAPI2 connection. Other DBAPI2 objects are not tested. Please consider using SQLAlchemy.\n",
      "\n"
     ]
    },
    {
     "name": "stdout",
     "output_type": "stream",
     "text": [
      "Conexión exitosa.\n"
     ]
    },
    {
     "name": "stderr",
     "output_type": "stream",
     "text": [
      "C:\\Users\\kings\\AppData\\Local\\Temp\\ipykernel_10280\\4048390100.py:53: UserWarning:\n",
      "\n",
      "pandas only supports SQLAlchemy connectable (engine/connection) or database string URI or sqlite3 DBAPI2 connection. Other DBAPI2 objects are not tested. Please consider using SQLAlchemy.\n",
      "\n"
     ]
    },
    {
     "name": "stdout",
     "output_type": "stream",
     "text": [
      "Conexión exitosa.\n"
     ]
    },
    {
     "name": "stderr",
     "output_type": "stream",
     "text": [
      "C:\\Users\\kings\\AppData\\Local\\Temp\\ipykernel_10280\\4048390100.py:53: UserWarning:\n",
      "\n",
      "pandas only supports SQLAlchemy connectable (engine/connection) or database string URI or sqlite3 DBAPI2 connection. Other DBAPI2 objects are not tested. Please consider using SQLAlchemy.\n",
      "\n"
     ]
    },
    {
     "name": "stdout",
     "output_type": "stream",
     "text": [
      "Conexión exitosa.\n"
     ]
    },
    {
     "name": "stderr",
     "output_type": "stream",
     "text": [
      "C:\\Users\\kings\\AppData\\Local\\Temp\\ipykernel_10280\\4048390100.py:53: UserWarning:\n",
      "\n",
      "pandas only supports SQLAlchemy connectable (engine/connection) or database string URI or sqlite3 DBAPI2 connection. Other DBAPI2 objects are not tested. Please consider using SQLAlchemy.\n",
      "\n"
     ]
    }
   ],
   "source": [
    "external_stylesheets = [dbc.themes.BOOTSTRAP,\n",
    "    'https://stackpath.bootstrapcdn.com/bootstrap/4.5.2/css/bootstrap.min.css',  # Bootstrap CSS\n",
    "    'https://cdnjs.cloudflare.com/ajax/libs/font-awesome/5.15.1/css/all.min.css']  # Bootstrap Icons\n",
    "# Crear la aplicación Dash\n",
    "app = dash.Dash(__name__, external_stylesheets=external_stylesheets)\n",
    "\n",
    "app.layout = dbc.Container([\n",
    "    # Encabezado\n",
    "    dbc.Row([\n",
    "        dbc.Col([\n",
    "            html.H1(\"var: Seguimiento del trámite\", style={\n",
    "                'color': '#0064AF',\n",
    "                'fontSize': '28px',\n",
    "                'textAlign': 'left',\n",
    "                'fontWeight': 'bold',\n",
    "                'fontFamily': 'Calibri'\n",
    "            }),\n",
    "            html.H2(\"Fuente: SGD\", style={\n",
    "                'color': '#0064AF',\n",
    "                'fontSize': '12px',\n",
    "                'textAlign': 'left',\n",
    "                'fontFamily': 'Calibri'\n",
    "            })\n",
    "        ], width=12),\n",
    "    ], style={'margin-top': '20px'}),\n",
    "\n",
    "    # Input y botón de búsqueda\n",
    "    dbc.Row([\n",
    "        dbc.Col([\n",
    "            html.H6(\"# hoja de trámite - # Hoja de tramite\", style={\n",
    "                'fontSize': '14px',\n",
    "                'color': '#606060',\n",
    "                'fontWeight': 'normal',\n",
    "                'fontFamily': 'Calibri'\n",
    "            }),\n",
    "            dcc.Input(\n",
    "                id='hoja_tramite',\n",
    "                type='text',\n",
    "                placeholder='Número de Expediente',\n",
    "                style={'width': '80%', 'fontSize': '14px', 'display': 'inline-block'},\n",
    "                debounce=True  # Esto permite activar el callback al presionar Enter\n",
    "            ),\n",
    "            dbc.Button(\n",
    "                html.I(className=\"fas fa-search\"),\n",
    "                id='search-button',\n",
    "                style={'background-color': '#0064AF', 'border-color': '#0064AF', 'color': 'white'},\n",
    "                className='align-middle'\n",
    "            )\n",
    "        ], width=12, md=12, lg=5, className='mb-2'),\n",
    "    ], style={'margin-top': '20px'}),\n",
    "\n",
    "    # Contenedor para el spinner y la tabla\n",
    "    dbc.Row([\n",
    "        dbc.Col([\n",
    "            dbc.Spinner(\n",
    "                id='spinner',\n",
    "                color=\"primary\",\n",
    "                size=\"lg\",\n",
    "                children=html.Div(id='table_container'),\n",
    "                fullscreen=True  # Make the spinner fullscreen\n",
    "            )\n",
    "        ], width=12)\n",
    "    ], style={'margin-top': '20px'}),\n",
    "\n",
    "], fluid=True)\n",
    "\n",
    "@app.callback(\n",
    "    [Output('spinner', 'children'),\n",
    "     Output('spinner', 'fullscreen')],\n",
    "    [Input('search-button', 'n_clicks')],\n",
    "    [dash.dependencies.State('hoja_tramite', 'value')]\n",
    ")\n",
    "def update_table(n_clicks, hoja_tramite_value):\n",
    "    # Cargar los datos\n",
    "    df = fetch_data()\n",
    "\n",
    "    # Verificar si se ha clicado el botón de búsqueda\n",
    "    if n_clicks is None or n_clicks == 0:\n",
    "        df_filtered = df  # Mostrar todos los datos por defecto\n",
    "    elif hoja_tramite_value and hoja_tramite_value.strip():\n",
    "        # Filtrar datos si el valor de búsqueda no está vacío\n",
    "        df_filtered = df[df['hoja_tramite'] == hoja_tramite_value]\n",
    "    else:\n",
    "        df_filtered = df  # Mostrar todos los datos si el valor de búsqueda está vacío\n",
    "\n",
    "    if not df_filtered.empty:\n",
    "        # Crear la DataTable\n",
    "        table = dash_table.DataTable(\n",
    "            id='data_table',\n",
    "            columns=[{\"name\": i, \"id\": i} for i in df_filtered.columns],\n",
    "            data=df_filtered.to_dict('records'),\n",
    "            style_table={'overflowX': 'auto'},\n",
    "            style_cell={\n",
    "                'textAlign': 'left',\n",
    "                'fontFamily': 'Calibri',\n",
    "                'padding': '5px'\n",
    "            },\n",
    "            style_header={\n",
    "                'backgroundColor': '#0064AF',\n",
    "                'fontWeight': 'bold',\n",
    "                'color': 'white'\n",
    "            },\n",
    "            page_size=20  # Número de filas por página\n",
    "        )\n",
    "        return table, False\n",
    "    else:\n",
    "        # Devuelve un mensaje indicando que no hay datos y que el spinner no esté en pantalla completa\n",
    "        return html.Div(\"No data available\", style={'color': 'red', 'fontWeight': 'bold'}), False\n",
    "\n",
    "if __name__ == '__main__':\n",
    "    app.run_server(debug=True)"
   ]
  }
 ],
 "metadata": {
  "kernelspec": {
   "display_name": "Python 3",
   "language": "python",
   "name": "python3"
  },
  "language_info": {
   "codemirror_mode": {
    "name": "ipython",
    "version": 3
   },
   "file_extension": ".py",
   "mimetype": "text/x-python",
   "name": "python",
   "nbconvert_exporter": "python",
   "pygments_lexer": "ipython3",
   "version": "3.12.4"
  }
 },
 "nbformat": 4,
 "nbformat_minor": 2
}

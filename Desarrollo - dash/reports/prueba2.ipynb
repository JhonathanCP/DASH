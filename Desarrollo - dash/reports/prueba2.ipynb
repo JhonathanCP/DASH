{
 "cells": [
  {
   "cell_type": "code",
   "execution_count": 39,
   "metadata": {},
   "outputs": [],
   "source": [
    "import dash\n",
    "from dash import dcc, html\n",
    "from dash.dependencies import Input, Output, State\n",
    "import plotly.express as px\n",
    "import pandas as pd\n",
    "from sqlalchemy import create_engine\n",
    "import plotly.graph_objects as go\n",
    "import dash_bootstrap_components as dbc\n",
    "from dash import dash_table\n",
    "import numpy as np\n",
    "from jupyter_dash import JupyterDash\n",
    "import pdfkit\n",
    "import base64\n",
    "from io import BytesIO\n",
    "from reportlab.lib.pagesizes import letter\n",
    "from reportlab.pdfgen import canvas\n",
    "import pyodbc\n",
    "from urllib.parse import quote_plus"
   ]
  },
  {
   "cell_type": "code",
   "execution_count": 46,
   "metadata": {},
   "outputs": [],
   "source": [
    "# Parámetros de conexión\n",
    "server = '10.0.0.133'\n",
    "database = 'DB_GENERAL'  # Reemplaza con el nombre de tu base de datos\n",
    "username = 'sa'\n",
    "password = 'Essalud23**'\n",
    "\n",
    "def create_connection():\n",
    "    conn = None\n",
    "    try:\n",
    "        # Establecer conexión\n",
    "        conn = pyodbc.connect(r'DRIVER={ODBC Driver 18 for SQL Server};'\n",
    "        f'SERVER={server};'\n",
    "        f'DATABASE={database};'\n",
    "        f'UID={username};'\n",
    "        f'PWD={password};'\n",
    "        'TrustServerCertificate=yes;')\n",
    "        print(\"Conexión exitosa.\")\n",
    "    except Exception as e:\n",
    "        print(f\"Error al conectar: {e}\")\n",
    "    return conn"
   ]
  },
  {
   "cell_type": "code",
   "execution_count": 49,
   "metadata": {},
   "outputs": [],
   "source": [
    "def fetch_data():\n",
    "    conn = create_connection()\n",
    "    if conn is None:\n",
    "        raise ConnectionError(\"No se pudo establecer la conexión a la base de datos.\")\n",
    "    try:\n",
    "        query = f\"\"\"\n",
    "              SELECT E.*, F.NRO_DOCUMENTO, CASE WHEN F.ID_TIPO_PERSONA = 2 THEN F.RAZON_SOCIAL ELSE F.NOMBRES + ' ' + F.APELLIDOS END AS RAZON_SOCIAL\n",
    "                FROM (\n",
    "                    SELECT doc.ASUNTO as ASUNTO2, doc.ID_CLASE_DOCUMENTO_INTERNO as CLASE2, A.*, CASE WHEN B.SIGLAS_SIAD IS NULL THEN B.SIGLAS ELSE B.SIGLAS_SIAD END AS DEPENDENCIA_ORIGEN,\n",
    "                            CASE WHEN D.SIGLAS_SIAD IS NULL THEN D.SIGLAS ELSE D.SIGLAS_SIAD END AS DEPENDENCIA_DESTINO, \n",
    "                            C.ASUNTO, C.ID_CLASE_DOCUMENTO_INTERNO, C.ID_PERSONA, C.HOJA_TRAMITE, C.ID_ESTADO_DOCUMENTO\n",
    "                        FROM DB_TRAMITE_DOCUMENTARIO.web_tramite.MOVIMIENTO_DOCUMENTO A\n",
    "                        LEFT JOIN DB_GENERAL.JCARDENAS.H_DEPENDENCIA B ON A.ID_DEPENDENCIA_ORIGEN = B.CODIGO_DEPENDENCIA\n",
    "                        LEFT JOIN DB_GENERAL.JCARDENAS.H_DEPENDENCIA D ON A.ID_DEPENDENCIA_DESTINO = D.CODIGO_DEPENDENCIA\n",
    "                        LEFT JOIN DB_TRAMITE_DOCUMENTARIO.web_tramite.DOCUMENTO C ON A.ID_DOCUMENTO = C.ID_DOCUMENTO\n",
    "                        LEFT JOIN DB_TRAMITE_DOCUMENTARIO.web_tramite.DOCUMENTO doc ON A.ID_OFICIO = doc.ID_DOCUMENTO\n",
    "                    ) E\n",
    "                LEFT JOIN DB_GENERAL.dbo.PERSONA F ON  E.ID_PERSONA = F.ID\n",
    "        \"\"\"\n",
    "        result = pd.read_sql(query, conn)\n",
    "    finally:\n",
    "        conn.close()  # Cerrar la conexión al final\n",
    "    return result"
   ]
  },
  {
   "cell_type": "code",
   "execution_count": 50,
   "metadata": {},
   "outputs": [
    {
     "name": "stdout",
     "output_type": "stream",
     "text": [
      "Conexión exitosa.\n"
     ]
    },
    {
     "name": "stderr",
     "output_type": "stream",
     "text": [
      "C:\\Users\\kings\\AppData\\Local\\Temp\\ipykernel_14724\\2175631031.py:20: UserWarning: pandas only supports SQLAlchemy connectable (engine/connection) or database string URI or sqlite3 DBAPI2 connection. Other DBAPI2 objects are not tested. Please consider using SQLAlchemy.\n",
      "  result = pd.read_sql(query, conn)\n"
     ]
    }
   ],
   "source": [
    "MOVIMIENTO_DOCUMENTO = fetch_data()"
   ]
  }
 ],
 "metadata": {
  "kernelspec": {
   "display_name": "Python 3",
   "language": "python",
   "name": "python3"
  },
  "language_info": {
   "codemirror_mode": {
    "name": "ipython",
    "version": 3
   },
   "file_extension": ".py",
   "mimetype": "text/x-python",
   "name": "python",
   "nbconvert_exporter": "python",
   "pygments_lexer": "ipython3",
   "version": "3.12.4"
  }
 },
 "nbformat": 4,
 "nbformat_minor": 2
}
